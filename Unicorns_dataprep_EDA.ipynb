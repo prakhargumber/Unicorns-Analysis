{
 "cells": [
  {
   "cell_type": "markdown",
   "metadata": {},
   "source": [
    "## Project Description\n",
    "##### Understanding the global startup ecosystem by analyzing the rise of Unicorn companies around the world. Unicorns are startups with a valuation of more than USD 1 billion."
   ]
  },
  {
   "cell_type": "code",
   "execution_count": 22,
   "metadata": {},
   "outputs": [],
   "source": [
    "# Importing libraries\n",
    "\n",
    "import numpy as np\n",
    "import pandas as pd\n",
    "import matplotlib.pyplot as plt\n",
    "%matplotlib inline"
   ]
  },
  {
   "cell_type": "code",
   "execution_count": 23,
   "metadata": {},
   "outputs": [
    {
     "data": {
      "text/html": [
       "<div>\n",
       "<style scoped>\n",
       "    .dataframe tbody tr th:only-of-type {\n",
       "        vertical-align: middle;\n",
       "    }\n",
       "\n",
       "    .dataframe tbody tr th {\n",
       "        vertical-align: top;\n",
       "    }\n",
       "\n",
       "    .dataframe thead th {\n",
       "        text-align: right;\n",
       "    }\n",
       "</style>\n",
       "<table border=\"1\" class=\"dataframe\">\n",
       "  <thead>\n",
       "    <tr style=\"text-align: right;\">\n",
       "      <th></th>\n",
       "      <th>Company</th>\n",
       "      <th>Valuation ($B)</th>\n",
       "      <th>Date Joined</th>\n",
       "      <th>Country</th>\n",
       "      <th>City</th>\n",
       "      <th>Industry</th>\n",
       "      <th>Select Investors</th>\n",
       "    </tr>\n",
       "  </thead>\n",
       "  <tbody>\n",
       "    <tr>\n",
       "      <th>0</th>\n",
       "      <td>ByteDance</td>\n",
       "      <td>$140</td>\n",
       "      <td>4/7/2017</td>\n",
       "      <td>China</td>\n",
       "      <td>Beijing</td>\n",
       "      <td>Artificial intelligence</td>\n",
       "      <td>Sequoia Capital China, SIG Asia Investments, S...</td>\n",
       "    </tr>\n",
       "    <tr>\n",
       "      <th>1</th>\n",
       "      <td>SpaceX</td>\n",
       "      <td>$127</td>\n",
       "      <td>12/1/2012</td>\n",
       "      <td>United States</td>\n",
       "      <td>Hawthorne</td>\n",
       "      <td>Other</td>\n",
       "      <td>Founders Fund, Draper Fisher Jurvetson, Rothen...</td>\n",
       "    </tr>\n",
       "    <tr>\n",
       "      <th>2</th>\n",
       "      <td>SHEIN</td>\n",
       "      <td>$100</td>\n",
       "      <td>7/3/2018</td>\n",
       "      <td>China</td>\n",
       "      <td>Shenzhen</td>\n",
       "      <td>E-commerce &amp; direct-to-consumer</td>\n",
       "      <td>Tiger Global Management, Sequoia Capital China...</td>\n",
       "    </tr>\n",
       "    <tr>\n",
       "      <th>3</th>\n",
       "      <td>Stripe</td>\n",
       "      <td>$95</td>\n",
       "      <td>1/23/2014</td>\n",
       "      <td>United States</td>\n",
       "      <td>San Francisco</td>\n",
       "      <td>Fintech</td>\n",
       "      <td>Khosla Ventures, LowercaseCapital, capitalG</td>\n",
       "    </tr>\n",
       "    <tr>\n",
       "      <th>4</th>\n",
       "      <td>Canva</td>\n",
       "      <td>$40</td>\n",
       "      <td>1/8/2018</td>\n",
       "      <td>Australia</td>\n",
       "      <td>Surry Hills</td>\n",
       "      <td>Internet software &amp; services</td>\n",
       "      <td>Sequoia Capital China, Blackbird Ventures, Mat...</td>\n",
       "    </tr>\n",
       "  </tbody>\n",
       "</table>\n",
       "</div>"
      ],
      "text/plain": [
       "     Company Valuation ($B) Date Joined        Country           City  \\\n",
       "0  ByteDance           $140    4/7/2017          China        Beijing   \n",
       "1     SpaceX           $127   12/1/2012  United States      Hawthorne   \n",
       "2      SHEIN           $100    7/3/2018          China       Shenzhen   \n",
       "3     Stripe            $95   1/23/2014  United States  San Francisco   \n",
       "4      Canva            $40    1/8/2018      Australia    Surry Hills   \n",
       "\n",
       "                          Industry  \\\n",
       "0          Artificial intelligence   \n",
       "1                            Other   \n",
       "2  E-commerce & direct-to-consumer   \n",
       "3                          Fintech   \n",
       "4     Internet software & services   \n",
       "\n",
       "                                    Select Investors  \n",
       "0  Sequoia Capital China, SIG Asia Investments, S...  \n",
       "1  Founders Fund, Draper Fisher Jurvetson, Rothen...  \n",
       "2  Tiger Global Management, Sequoia Capital China...  \n",
       "3        Khosla Ventures, LowercaseCapital, capitalG  \n",
       "4  Sequoia Capital China, Blackbird Ventures, Mat...  "
      ]
     },
     "execution_count": 23,
     "metadata": {},
     "output_type": "execute_result"
    }
   ],
   "source": [
    "df = pd.read_html('https://www.cbinsights.com/research-unicorn-companies', attrs = {'class': 'sortable-theme-bootstrap'})[0]\n",
    "df.head()"
   ]
  },
  {
   "cell_type": "code",
   "execution_count": 24,
   "metadata": {},
   "outputs": [
    {
     "name": "stdout",
     "output_type": "stream",
     "text": [
      "<class 'pandas.core.frame.DataFrame'>\n",
      "RangeIndex: 1175 entries, 0 to 1174\n",
      "Data columns (total 7 columns):\n",
      " #   Column            Non-Null Count  Dtype \n",
      "---  ------            --------------  ----- \n",
      " 0   Company           1175 non-null   object\n",
      " 1   Valuation ($B)    1175 non-null   object\n",
      " 2   Date Joined       1175 non-null   object\n",
      " 3   Country           1175 non-null   object\n",
      " 4   City              1158 non-null   object\n",
      " 5   Industry          1175 non-null   object\n",
      " 6   Select Investors  1174 non-null   object\n",
      "dtypes: object(7)\n",
      "memory usage: 32.2+ KB\n"
     ]
    }
   ],
   "source": [
    "df.info()"
   ]
  },
  {
   "cell_type": "code",
   "execution_count": 25,
   "metadata": {},
   "outputs": [],
   "source": [
    "# Renaming columns\n",
    "df.rename({'Company': 'company', 'Valuation ($B)': 'valuation', 'Date Joined': 'join_date',\n",
    "           'Country': 'country', 'City': 'city', 'Industry': 'industry', 'Select Investors': 'investors'}, axis=1, inplace=True)"
   ]
  },
  {
   "cell_type": "code",
   "execution_count": 26,
   "metadata": {},
   "outputs": [
    {
     "data": {
      "text/plain": [
       "Fintech           242\n",
       "Software          224\n",
       "E-commerce        106\n",
       "Health             93\n",
       "AI                 87\n",
       "Logistics          66\n",
       "Other              65\n",
       "Cybersecurity      58\n",
       "Analytics          45\n",
       "Transportation     39\n",
       "Hardware           38\n",
       "Telecom            38\n",
       "Edtech             32\n",
       "Retail             28\n",
       "Travel             14\n",
       "Name: industry, dtype: int64"
      ]
     },
     "execution_count": 26,
     "metadata": {},
     "output_type": "execute_result"
    }
   ],
   "source": [
    "# Reformatting column - industry\n",
    "df['industry'].replace({'Internet software & services': 'Software', 'E-commerce & direct-to-consumer': 'E-commerce',\n",
    "                        'Artificial intelligence': 'AI', 'Supply chain, logistics, & delivery': 'Logistics',\n",
    "                        'Data management & analytics': 'Analytics', 'Auto & transportation': 'Transportation',\n",
    "                        'Mobile & telecommunications': 'Telecom', 'Consumer & retail': 'Retail', 'Artificial Intelligence': 'AI'}, inplace=True)\n",
    "\n",
    "df['industry'].value_counts()"
   ]
  },
  {
   "cell_type": "code",
   "execution_count": 27,
   "metadata": {},
   "outputs": [],
   "source": [
    "# Reformatting column - investors\n",
    "df[['investor_1', 'investor_2', 'investor_3', 'investor_4']] = df['investors'].str.split(',', expand=True)\n",
    "df.drop('investors', axis=1, inplace=True)"
   ]
  },
  {
   "cell_type": "code",
   "execution_count": 28,
   "metadata": {},
   "outputs": [],
   "source": [
    "# Cleaning column data\n",
    "df['valuation'] = df['valuation'].str.strip('$')  # removing dollar sign\n",
    "df['valuation'] = df['valuation'].str.extract(r'([0-9]+.?[0-9]*)')  # extracting the floating point number using regex\n",
    "\n",
    "for col in df.columns:\n",
    "    df[col] = df[col].str.strip()  # removing leading and trailing whitespaces(if any) from all columns"
   ]
  },
  {
   "cell_type": "code",
   "execution_count": 29,
   "metadata": {},
   "outputs": [
    {
     "name": "stdout",
     "output_type": "stream",
     "text": [
      "<class 'pandas.core.frame.DataFrame'>\n",
      "RangeIndex: 1175 entries, 0 to 1174\n",
      "Data columns (total 10 columns):\n",
      " #   Column      Non-Null Count  Dtype         \n",
      "---  ------      --------------  -----         \n",
      " 0   company     1175 non-null   object        \n",
      " 1   valuation   1175 non-null   float64       \n",
      " 2   join_date   1175 non-null   datetime64[ns]\n",
      " 3   country     1175 non-null   category      \n",
      " 4   city        1158 non-null   object        \n",
      " 5   industry    1175 non-null   category      \n",
      " 6   investor_1  1174 non-null   object        \n",
      " 7   investor_2  1124 non-null   object        \n",
      " 8   investor_3  1035 non-null   object        \n",
      " 9   investor_4  9 non-null      object        \n",
      "dtypes: category(2), datetime64[ns](1), float64(1), object(6)\n",
      "memory usage: 49.3+ KB\n"
     ]
    }
   ],
   "source": [
    "# Changing column data types\n",
    "df = df.astype({'valuation': 'float64', 'join_date': 'datetime64[ns]', 'country': 'category', 'industry': 'category'})\n",
    "df.info()"
   ]
  },
  {
   "cell_type": "code",
   "execution_count": null,
   "metadata": {},
   "outputs": [],
   "source": []
  }
 ],
 "metadata": {
  "interpreter": {
   "hash": "050e6ba18cab54f1a29261057f5cc15f0b52a9f853f771c85f85c6db249e6523"
  },
  "kernelspec": {
   "display_name": "Python 3.7.8 ('.venv': venv)",
   "language": "python",
   "name": "python3"
  },
  "language_info": {
   "codemirror_mode": {
    "name": "ipython",
    "version": 3
   },
   "file_extension": ".py",
   "mimetype": "text/x-python",
   "name": "python",
   "nbconvert_exporter": "python",
   "pygments_lexer": "ipython3",
   "version": "3.7.8"
  },
  "orig_nbformat": 4
 },
 "nbformat": 4,
 "nbformat_minor": 2
}
