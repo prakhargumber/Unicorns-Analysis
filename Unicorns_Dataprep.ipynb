{
 "cells": [
  {
   "cell_type": "markdown",
   "metadata": {},
   "source": [
    "## Project Description\n",
    "##### Understanding the global startup ecosystem by analyzing the rise of Unicorn companies around the world. Unicorns are startups with a valuation of more than USD 1 billion."
   ]
  },
  {
   "cell_type": "code",
   "execution_count": 77,
   "metadata": {},
   "outputs": [],
   "source": [
    "# Importing libraries\n",
    "\n",
    "import numpy as np\n",
    "import pandas as pd"
   ]
  },
  {
   "cell_type": "markdown",
   "metadata": {},
   "source": [
    "#### Extracting HTML table as DataFrame"
   ]
  },
  {
   "cell_type": "code",
   "execution_count": 78,
   "metadata": {},
   "outputs": [
    {
     "data": {
      "text/html": [
       "<div>\n",
       "<style scoped>\n",
       "    .dataframe tbody tr th:only-of-type {\n",
       "        vertical-align: middle;\n",
       "    }\n",
       "\n",
       "    .dataframe tbody tr th {\n",
       "        vertical-align: top;\n",
       "    }\n",
       "\n",
       "    .dataframe thead th {\n",
       "        text-align: right;\n",
       "    }\n",
       "</style>\n",
       "<table border=\"1\" class=\"dataframe\">\n",
       "  <thead>\n",
       "    <tr style=\"text-align: right;\">\n",
       "      <th></th>\n",
       "      <th>Company</th>\n",
       "      <th>Valuation ($B)</th>\n",
       "      <th>Date Joined</th>\n",
       "      <th>Country</th>\n",
       "      <th>City</th>\n",
       "      <th>Industry</th>\n",
       "      <th>Select Investors</th>\n",
       "    </tr>\n",
       "  </thead>\n",
       "  <tbody>\n",
       "    <tr>\n",
       "      <th>0</th>\n",
       "      <td>ByteDance</td>\n",
       "      <td>$140</td>\n",
       "      <td>4/7/2017</td>\n",
       "      <td>China</td>\n",
       "      <td>Beijing</td>\n",
       "      <td>Artificial intelligence</td>\n",
       "      <td>Sequoia Capital China, SIG Asia Investments, S...</td>\n",
       "    </tr>\n",
       "    <tr>\n",
       "      <th>1</th>\n",
       "      <td>SpaceX</td>\n",
       "      <td>$127</td>\n",
       "      <td>12/1/2012</td>\n",
       "      <td>United States</td>\n",
       "      <td>Hawthorne</td>\n",
       "      <td>Other</td>\n",
       "      <td>Founders Fund, Draper Fisher Jurvetson, Rothen...</td>\n",
       "    </tr>\n",
       "    <tr>\n",
       "      <th>2</th>\n",
       "      <td>SHEIN</td>\n",
       "      <td>$100</td>\n",
       "      <td>7/3/2018</td>\n",
       "      <td>China</td>\n",
       "      <td>Shenzhen</td>\n",
       "      <td>E-commerce &amp; direct-to-consumer</td>\n",
       "      <td>Tiger Global Management, Sequoia Capital China...</td>\n",
       "    </tr>\n",
       "    <tr>\n",
       "      <th>3</th>\n",
       "      <td>Stripe</td>\n",
       "      <td>$95</td>\n",
       "      <td>1/23/2014</td>\n",
       "      <td>United States</td>\n",
       "      <td>San Francisco</td>\n",
       "      <td>Fintech</td>\n",
       "      <td>Khosla Ventures, LowercaseCapital, capitalG</td>\n",
       "    </tr>\n",
       "    <tr>\n",
       "      <th>4</th>\n",
       "      <td>Canva</td>\n",
       "      <td>$40</td>\n",
       "      <td>1/8/2018</td>\n",
       "      <td>Australia</td>\n",
       "      <td>Surry Hills</td>\n",
       "      <td>Internet software &amp; services</td>\n",
       "      <td>Sequoia Capital China, Blackbird Ventures, Mat...</td>\n",
       "    </tr>\n",
       "  </tbody>\n",
       "</table>\n",
       "</div>"
      ],
      "text/plain": [
       "     Company Valuation ($B) Date Joined        Country           City  \\\n",
       "0  ByteDance           $140    4/7/2017          China        Beijing   \n",
       "1     SpaceX           $127   12/1/2012  United States      Hawthorne   \n",
       "2      SHEIN           $100    7/3/2018          China       Shenzhen   \n",
       "3     Stripe            $95   1/23/2014  United States  San Francisco   \n",
       "4      Canva            $40    1/8/2018      Australia    Surry Hills   \n",
       "\n",
       "                          Industry  \\\n",
       "0          Artificial intelligence   \n",
       "1                            Other   \n",
       "2  E-commerce & direct-to-consumer   \n",
       "3                          Fintech   \n",
       "4     Internet software & services   \n",
       "\n",
       "                                    Select Investors  \n",
       "0  Sequoia Capital China, SIG Asia Investments, S...  \n",
       "1  Founders Fund, Draper Fisher Jurvetson, Rothen...  \n",
       "2  Tiger Global Management, Sequoia Capital China...  \n",
       "3        Khosla Ventures, LowercaseCapital, capitalG  \n",
       "4  Sequoia Capital China, Blackbird Ventures, Mat...  "
      ]
     },
     "execution_count": 78,
     "metadata": {},
     "output_type": "execute_result"
    }
   ],
   "source": [
    "df = pd.read_html('https://www.cbinsights.com/research-unicorn-companies', attrs = {'class': 'sortable-theme-bootstrap'})[0]\n",
    "\n",
    "df.to_csv(r'dataset\\unicorns.csv', index=False)  # saving the raw dataset as csv\n",
    "df.head()"
   ]
  },
  {
   "cell_type": "code",
   "execution_count": 79,
   "metadata": {},
   "outputs": [
    {
     "name": "stdout",
     "output_type": "stream",
     "text": [
      "<class 'pandas.core.frame.DataFrame'>\n",
      "RangeIndex: 1175 entries, 0 to 1174\n",
      "Data columns (total 7 columns):\n",
      " #   Column            Non-Null Count  Dtype \n",
      "---  ------            --------------  ----- \n",
      " 0   Company           1175 non-null   object\n",
      " 1   Valuation ($B)    1175 non-null   object\n",
      " 2   Date Joined       1175 non-null   object\n",
      " 3   Country           1175 non-null   object\n",
      " 4   City              1158 non-null   object\n",
      " 5   Industry          1175 non-null   object\n",
      " 6   Select Investors  1174 non-null   object\n",
      "dtypes: object(7)\n",
      "memory usage: 32.2+ KB\n"
     ]
    }
   ],
   "source": [
    "df.info()"
   ]
  },
  {
   "cell_type": "markdown",
   "metadata": {},
   "source": [
    "#### Renaming & Reformatting columns"
   ]
  },
  {
   "cell_type": "code",
   "execution_count": 80,
   "metadata": {},
   "outputs": [],
   "source": [
    "# Renaming columns\n",
    "df.rename({'Company': 'company', 'Valuation ($B)': 'valuation', 'Date Joined': 'join_date',\n",
    "           'Country': 'country', 'City': 'city', 'Industry': 'industry', 'Select Investors': 'investors'}, axis=1, inplace=True)"
   ]
  },
  {
   "cell_type": "code",
   "execution_count": 81,
   "metadata": {},
   "outputs": [
    {
     "data": {
      "text/plain": [
       "Fintech           242\n",
       "Software          224\n",
       "E-commerce        106\n",
       "Health             93\n",
       "AI                 87\n",
       "Logistics          66\n",
       "Other              65\n",
       "Cybersecurity      58\n",
       "Analytics          45\n",
       "Transportation     39\n",
       "Hardware           38\n",
       "Telecom            38\n",
       "Edtech             32\n",
       "Retail             28\n",
       "Travel             14\n",
       "Name: industry, dtype: int64"
      ]
     },
     "execution_count": 81,
     "metadata": {},
     "output_type": "execute_result"
    }
   ],
   "source": [
    "# Reformatting column - industry\n",
    "df['industry'].replace({'Internet software & services': 'Software', 'E-commerce & direct-to-consumer': 'E-commerce',\n",
    "                        'Artificial intelligence': 'AI', 'Supply chain, logistics, & delivery': 'Logistics',\n",
    "                        'Data management & analytics': 'Analytics', 'Auto & transportation': 'Transportation',\n",
    "                        'Mobile & telecommunications': 'Telecom', 'Consumer & retail': 'Retail', 'Artificial Intelligence': 'AI'}, inplace=True)\n",
    "\n",
    "df['industry'].value_counts()"
   ]
  },
  {
   "cell_type": "code",
   "execution_count": 82,
   "metadata": {},
   "outputs": [],
   "source": [
    "# Reformatting column - investors\n",
    "df[['investor_1', 'investor_2', 'investor_3', 'investor_4']] = df['investors'].str.split(',', expand=True)\n",
    "df.drop('investors', axis=1, inplace=True)"
   ]
  },
  {
   "cell_type": "markdown",
   "metadata": {},
   "source": [
    "#### Cleaning data and changing data types"
   ]
  },
  {
   "cell_type": "code",
   "execution_count": 83,
   "metadata": {},
   "outputs": [],
   "source": [
    "# Cleaning column data\n",
    "df['valuation'] = df['valuation'].str.strip('$')  # removing dollar sign\n",
    "df['valuation'] = df['valuation'].str.extract(r'([0-9]+.?[0-9]*)')  # extracting the floating point number using regex\n",
    "\n",
    "for col in df.columns:\n",
    "    df[col] = df[col].str.strip()  # removing leading and trailing whitespaces(if any) from all columns"
   ]
  },
  {
   "cell_type": "code",
   "execution_count": 84,
   "metadata": {},
   "outputs": [
    {
     "name": "stdout",
     "output_type": "stream",
     "text": [
      "<class 'pandas.core.frame.DataFrame'>\n",
      "RangeIndex: 1175 entries, 0 to 1174\n",
      "Data columns (total 10 columns):\n",
      " #   Column      Non-Null Count  Dtype         \n",
      "---  ------      --------------  -----         \n",
      " 0   company     1175 non-null   object        \n",
      " 1   valuation   1175 non-null   float64       \n",
      " 2   join_date   1175 non-null   datetime64[ns]\n",
      " 3   country     1175 non-null   category      \n",
      " 4   city        1158 non-null   object        \n",
      " 5   industry    1175 non-null   category      \n",
      " 6   investor_1  1174 non-null   object        \n",
      " 7   investor_2  1124 non-null   object        \n",
      " 8   investor_3  1035 non-null   object        \n",
      " 9   investor_4  9 non-null      object        \n",
      "dtypes: category(2), datetime64[ns](1), float64(1), object(6)\n",
      "memory usage: 49.3+ KB\n"
     ]
    }
   ],
   "source": [
    "# Changing column data types\n",
    "df = df.astype({'valuation': 'float64', 'join_date': 'datetime64[ns]', 'country': 'category', 'industry': 'category'})\n",
    "df.info()"
   ]
  },
  {
   "cell_type": "markdown",
   "metadata": {},
   "source": [
    "#### Validating data (uniqueness & NaN)"
   ]
  },
  {
   "cell_type": "code",
   "execution_count": 85,
   "metadata": {},
   "outputs": [
    {
     "name": "stdout",
     "output_type": "stream",
     "text": [
      "       column  num_unique  num_null\n",
      "9  investor_4           9      1166\n",
      "5    industry          15         0\n",
      "3     country          48         0\n",
      "1   valuation         220         0\n",
      "4        city         279        17\n",
      "6  investor_1         592         1\n",
      "8  investor_3         615       140\n",
      "7  investor_2         644        51\n",
      "2   join_date         687         0\n",
      "0     company        1172         0\n"
     ]
    }
   ],
   "source": [
    "print(pd.DataFrame([(col, df[col].nunique(), sum(df[col].isna())) for col in df.columns], \n",
    "                  columns=['column', 'num_unique', 'num_null']).sort_values(by=['num_unique']))"
   ]
  },
  {
   "cell_type": "markdown",
   "metadata": {},
   "source": [
    "##### Exploring column - company"
   ]
  },
  {
   "cell_type": "code",
   "execution_count": 86,
   "metadata": {},
   "outputs": [
    {
     "data": {
      "text/html": [
       "<div>\n",
       "<style scoped>\n",
       "    .dataframe tbody tr th:only-of-type {\n",
       "        vertical-align: middle;\n",
       "    }\n",
       "\n",
       "    .dataframe tbody tr th {\n",
       "        vertical-align: top;\n",
       "    }\n",
       "\n",
       "    .dataframe thead th {\n",
       "        text-align: right;\n",
       "    }\n",
       "</style>\n",
       "<table border=\"1\" class=\"dataframe\">\n",
       "  <thead>\n",
       "    <tr style=\"text-align: right;\">\n",
       "      <th></th>\n",
       "      <th>company</th>\n",
       "      <th>valuation</th>\n",
       "      <th>join_date</th>\n",
       "      <th>country</th>\n",
       "      <th>city</th>\n",
       "      <th>industry</th>\n",
       "      <th>investor_1</th>\n",
       "      <th>investor_2</th>\n",
       "      <th>investor_3</th>\n",
       "      <th>investor_4</th>\n",
       "    </tr>\n",
       "  </thead>\n",
       "  <tbody>\n",
       "    <tr>\n",
       "      <th>42</th>\n",
       "      <td>Bolt</td>\n",
       "      <td>11.00</td>\n",
       "      <td>2021-10-08</td>\n",
       "      <td>United States</td>\n",
       "      <td>San Francisco</td>\n",
       "      <td>Fintech</td>\n",
       "      <td>Activant Capital</td>\n",
       "      <td>Tribe Capital</td>\n",
       "      <td>General Atlantic</td>\n",
       "      <td>None</td>\n",
       "    </tr>\n",
       "    <tr>\n",
       "      <th>73</th>\n",
       "      <td>Bolt</td>\n",
       "      <td>8.40</td>\n",
       "      <td>2018-05-29</td>\n",
       "      <td>Estonia</td>\n",
       "      <td>Tallinn</td>\n",
       "      <td>Transportation</td>\n",
       "      <td>Didi Chuxing</td>\n",
       "      <td>Diamler</td>\n",
       "      <td>TMT Investments</td>\n",
       "      <td>None</td>\n",
       "    </tr>\n",
       "    <tr>\n",
       "      <th>211</th>\n",
       "      <td>Branch</td>\n",
       "      <td>4.00</td>\n",
       "      <td>2018-09-10</td>\n",
       "      <td>United States</td>\n",
       "      <td>Redwood City</td>\n",
       "      <td>Telecom</td>\n",
       "      <td>New Enterprise Associates</td>\n",
       "      <td>Pear</td>\n",
       "      <td>Cowboy Ventures</td>\n",
       "      <td>None</td>\n",
       "    </tr>\n",
       "    <tr>\n",
       "      <th>890</th>\n",
       "      <td>Branch</td>\n",
       "      <td>1.05</td>\n",
       "      <td>2022-03-01</td>\n",
       "      <td>United States</td>\n",
       "      <td>Columbus</td>\n",
       "      <td>Fintech</td>\n",
       "      <td>American Family Ventures</td>\n",
       "      <td>Greycroft</td>\n",
       "      <td>SignalFire</td>\n",
       "      <td>None</td>\n",
       "    </tr>\n",
       "    <tr>\n",
       "      <th>646</th>\n",
       "      <td>Fabric</td>\n",
       "      <td>1.50</td>\n",
       "      <td>2022-02-24</td>\n",
       "      <td>United States</td>\n",
       "      <td>Bellevue</td>\n",
       "      <td>E-commerce</td>\n",
       "      <td>Redpoint Ventures</td>\n",
       "      <td>Norwest Venture Partners</td>\n",
       "      <td>Sierra Ventures</td>\n",
       "      <td>None</td>\n",
       "    </tr>\n",
       "    <tr>\n",
       "      <th>1081</th>\n",
       "      <td>Fabric</td>\n",
       "      <td>1.00</td>\n",
       "      <td>2021-10-26</td>\n",
       "      <td>United States</td>\n",
       "      <td>New York</td>\n",
       "      <td>Logistics</td>\n",
       "      <td>Innovation Endeavors</td>\n",
       "      <td>Aleph</td>\n",
       "      <td>Temasek</td>\n",
       "      <td>None</td>\n",
       "    </tr>\n",
       "  </tbody>\n",
       "</table>\n",
       "</div>"
      ],
      "text/plain": [
       "     company  valuation  join_date        country           city  \\\n",
       "42      Bolt      11.00 2021-10-08  United States  San Francisco   \n",
       "73      Bolt       8.40 2018-05-29        Estonia        Tallinn   \n",
       "211   Branch       4.00 2018-09-10  United States   Redwood City   \n",
       "890   Branch       1.05 2022-03-01  United States       Columbus   \n",
       "646   Fabric       1.50 2022-02-24  United States       Bellevue   \n",
       "1081  Fabric       1.00 2021-10-26  United States       New York   \n",
       "\n",
       "            industry                 investor_1                investor_2  \\\n",
       "42           Fintech           Activant Capital             Tribe Capital   \n",
       "73    Transportation               Didi Chuxing                   Diamler   \n",
       "211          Telecom  New Enterprise Associates                      Pear   \n",
       "890          Fintech   American Family Ventures                 Greycroft   \n",
       "646       E-commerce          Redpoint Ventures  Norwest Venture Partners   \n",
       "1081       Logistics       Innovation Endeavors                     Aleph   \n",
       "\n",
       "            investor_3 investor_4  \n",
       "42    General Atlantic       None  \n",
       "73     TMT Investments       None  \n",
       "211    Cowboy Ventures       None  \n",
       "890         SignalFire       None  \n",
       "646    Sierra Ventures       None  \n",
       "1081           Temasek       None  "
      ]
     },
     "execution_count": 86,
     "metadata": {},
     "output_type": "execute_result"
    }
   ],
   "source": [
    "# Validating duplicated company names\n",
    "l=[]\n",
    "for c in df.company[df.company.duplicated()]:\n",
    "    l.append(df[df.company == c])\n",
    "\n",
    "dup_df = pd.concat(l)\n",
    "dup_df"
   ]
  },
  {
   "cell_type": "code",
   "execution_count": 87,
   "metadata": {},
   "outputs": [],
   "source": [
    "# Dropping duplicate company rows (if any)\n",
    "dup_index = dup_df[dup_df.duplicated(['valuation', 'join_date', 'industry'])].index\n",
    "df.drop(dup_index, inplace=True)"
   ]
  },
  {
   "cell_type": "markdown",
   "metadata": {},
   "source": [
    "##### Exploring column - city"
   ]
  },
  {
   "cell_type": "code",
   "execution_count": 88,
   "metadata": {},
   "outputs": [
    {
     "name": "stdout",
     "output_type": "stream",
     "text": [
      "['Bahamas', 'Singapore', 'Hong Kong']\n",
      "Categories (48, object): ['Argentina', 'Australia', 'Austria', 'Bahamas', ..., 'United Arab Emirates', 'United Kingdom', 'United States', 'Vietnam']\n"
     ]
    },
    {
     "data": {
      "text/html": [
       "<div>\n",
       "<style scoped>\n",
       "    .dataframe tbody tr th:only-of-type {\n",
       "        vertical-align: middle;\n",
       "    }\n",
       "\n",
       "    .dataframe tbody tr th {\n",
       "        vertical-align: top;\n",
       "    }\n",
       "\n",
       "    .dataframe thead th {\n",
       "        text-align: right;\n",
       "    }\n",
       "</style>\n",
       "<table border=\"1\" class=\"dataframe\">\n",
       "  <thead>\n",
       "    <tr style=\"text-align: right;\">\n",
       "      <th></th>\n",
       "      <th>company</th>\n",
       "      <th>valuation</th>\n",
       "      <th>join_date</th>\n",
       "      <th>country</th>\n",
       "      <th>city</th>\n",
       "      <th>industry</th>\n",
       "      <th>investor_1</th>\n",
       "      <th>investor_2</th>\n",
       "      <th>investor_3</th>\n",
       "      <th>investor_4</th>\n",
       "    </tr>\n",
       "  </thead>\n",
       "  <tbody>\n",
       "    <tr>\n",
       "      <th>10</th>\n",
       "      <td>FTX</td>\n",
       "      <td>32.0</td>\n",
       "      <td>2021-07-20</td>\n",
       "      <td>Bahamas</td>\n",
       "      <td>Nassau</td>\n",
       "      <td>Fintech</td>\n",
       "      <td>Sequoia Capital</td>\n",
       "      <td>Thoma Bravo</td>\n",
       "      <td>Softbank</td>\n",
       "      <td>None</td>\n",
       "    </tr>\n",
       "  </tbody>\n",
       "</table>\n",
       "</div>"
      ],
      "text/plain": [
       "   company  valuation  join_date  country    city industry       investor_1  \\\n",
       "10     FTX       32.0 2021-07-20  Bahamas  Nassau  Fintech  Sequoia Capital   \n",
       "\n",
       "     investor_2 investor_3 investor_4  \n",
       "10  Thoma Bravo   Softbank       None  "
      ]
     },
     "execution_count": 88,
     "metadata": {},
     "output_type": "execute_result"
    }
   ],
   "source": [
    "# Handling null values\n",
    "print(df.country[df.city.isna()].unique())\n",
    "\n",
    "# Bahamas\n",
    "df.loc[df[df.country == 'Bahamas'].index, 'city'] = 'Nassau'  # https://www.linkedin.com/company/ftx/about/\n",
    "df[df.country == 'Bahamas']"
   ]
  },
  {
   "cell_type": "code",
   "execution_count": 89,
   "metadata": {},
   "outputs": [
    {
     "name": "stdout",
     "output_type": "stream",
     "text": [
      "<class 'pandas.core.frame.DataFrame'>\n",
      "Int64Index: 1175 entries, 0 to 1174\n",
      "Data columns (total 10 columns):\n",
      " #   Column      Non-Null Count  Dtype         \n",
      "---  ------      --------------  -----         \n",
      " 0   company     1175 non-null   object        \n",
      " 1   valuation   1175 non-null   float64       \n",
      " 2   join_date   1175 non-null   datetime64[ns]\n",
      " 3   country     1175 non-null   category      \n",
      " 4   city        1175 non-null   object        \n",
      " 5   industry    1175 non-null   category      \n",
      " 6   investor_1  1174 non-null   object        \n",
      " 7   investor_2  1124 non-null   object        \n",
      " 8   investor_3  1035 non-null   object        \n",
      " 9   investor_4  9 non-null      object        \n",
      "dtypes: category(2), datetime64[ns](1), float64(1), object(6)\n",
      "memory usage: 82.7+ KB\n"
     ]
    }
   ],
   "source": [
    "# Singapore & Hong Kong\n",
    "df.loc[df[df.country == 'Singapore'].index, 'city'] = df.loc[df[df.country == 'Singapore'].index, 'country']  # Since Singapore is a city-country\n",
    "\n",
    "df.loc[df[df.country == 'Hong Kong'].index, 'city'] = df.loc[df[df.country == 'Hong Kong'].index, 'country']  # Since Hong Kong is a city-country\n",
    "\n",
    "df.info()"
   ]
  },
  {
   "cell_type": "markdown",
   "metadata": {},
   "source": [
    "#### Saving the DataFrame as csv"
   ]
  },
  {
   "cell_type": "code",
   "execution_count": 90,
   "metadata": {},
   "outputs": [
    {
     "name": "stdout",
     "output_type": "stream",
     "text": [
      "File exported successfully!\n"
     ]
    }
   ],
   "source": [
    "filename = 'unicorns_clean.csv'\n",
    "df.to_csv(f'dataset\\\\{filename}', index=False)\n",
    "\n",
    "print('File exported successfully!')"
   ]
  }
 ],
 "metadata": {
  "interpreter": {
   "hash": "050e6ba18cab54f1a29261057f5cc15f0b52a9f853f771c85f85c6db249e6523"
  },
  "kernelspec": {
   "display_name": "Python 3.7.8 ('.venv': venv)",
   "language": "python",
   "name": "python3"
  },
  "language_info": {
   "codemirror_mode": {
    "name": "ipython",
    "version": 3
   },
   "file_extension": ".py",
   "mimetype": "text/x-python",
   "name": "python",
   "nbconvert_exporter": "python",
   "pygments_lexer": "ipython3",
   "version": "3.7.8"
  },
  "orig_nbformat": 4
 },
 "nbformat": 4,
 "nbformat_minor": 2
}
